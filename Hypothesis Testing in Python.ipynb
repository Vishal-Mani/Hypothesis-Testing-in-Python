{
 "cells": [
  {
   "cell_type": "code",
   "execution_count": 1,
   "metadata": {},
   "outputs": [],
   "source": [
    "#Importing the necessary libraries\n",
    "import pandas as pd\n",
    "import numpy as np\n",
    "import scipy\n",
    "from scipy import stats\n",
    "import statsmodels.api as sm\n",
    "import statsmodels.formula.api as smf"
   ]
  },
  {
   "cell_type": "code",
   "execution_count": null,
   "metadata": {},
   "outputs": [],
   "source": [
    "# Problem 1"
   ]
  },
  {
   "cell_type": "code",
   "execution_count": 2,
   "metadata": {},
   "outputs": [],
   "source": [
    "# We are comparing the means of 2 different populations. Here X is the name of the unit which is discrete and y is the length of the diameter of the cutlets and is continuous.\n",
    "# X1 is unit A, X2 is unit B, Y1 is diameter of donuts produced by unit A and Y2 is diameter of donuts produced by unit B.\n",
    "# H0: There is no difference between the average length of the diameters of the cutlets of unit A and unit B. \n",
    "# H1: There is a difference between the average length of the diameters of the cutlets of unit A and unit B.\n",
    "# significance level (alpha) = 0.05\n",
    "# We can use 2 sample Test to test our hypothesis.\n",
    "\n",
    "cutlets = pd.read_csv('Cutlets.csv')"
   ]
  },
  {
   "cell_type": "code",
   "execution_count": 3,
   "metadata": {},
   "outputs": [
    {
     "data": {
      "text/html": [
       "<div>\n",
       "<style scoped>\n",
       "    .dataframe tbody tr th:only-of-type {\n",
       "        vertical-align: middle;\n",
       "    }\n",
       "\n",
       "    .dataframe tbody tr th {\n",
       "        vertical-align: top;\n",
       "    }\n",
       "\n",
       "    .dataframe thead th {\n",
       "        text-align: right;\n",
       "    }\n",
       "</style>\n",
       "<table border=\"1\" class=\"dataframe\">\n",
       "  <thead>\n",
       "    <tr style=\"text-align: right;\">\n",
       "      <th></th>\n",
       "      <th>Unit A</th>\n",
       "      <th>Unit B</th>\n",
       "    </tr>\n",
       "  </thead>\n",
       "  <tbody>\n",
       "    <tr>\n",
       "      <th>0</th>\n",
       "      <td>6.8090</td>\n",
       "      <td>6.7703</td>\n",
       "    </tr>\n",
       "    <tr>\n",
       "      <th>1</th>\n",
       "      <td>6.4376</td>\n",
       "      <td>7.5093</td>\n",
       "    </tr>\n",
       "    <tr>\n",
       "      <th>2</th>\n",
       "      <td>6.9157</td>\n",
       "      <td>6.7300</td>\n",
       "    </tr>\n",
       "    <tr>\n",
       "      <th>3</th>\n",
       "      <td>7.3012</td>\n",
       "      <td>6.7878</td>\n",
       "    </tr>\n",
       "    <tr>\n",
       "      <th>4</th>\n",
       "      <td>7.4488</td>\n",
       "      <td>7.1522</td>\n",
       "    </tr>\n",
       "  </tbody>\n",
       "</table>\n",
       "</div>"
      ],
      "text/plain": [
       "   Unit A  Unit B\n",
       "0  6.8090  6.7703\n",
       "1  6.4376  7.5093\n",
       "2  6.9157  6.7300\n",
       "3  7.3012  6.7878\n",
       "4  7.4488  7.1522"
      ]
     },
     "execution_count": 3,
     "metadata": {},
     "output_type": "execute_result"
    }
   ],
   "source": [
    "cutlets.head()"
   ]
  },
  {
   "cell_type": "code",
   "execution_count": 4,
   "metadata": {},
   "outputs": [
    {
     "name": "stdout",
     "output_type": "stream",
     "text": [
      "(0.9649458527565002, 0.3199819028377533)\n"
     ]
    }
   ],
   "source": [
    "#Normality Test for Y1\n",
    "print(stats.shapiro(cutlets['Unit A'].dropna()))"
   ]
  },
  {
   "cell_type": "code",
   "execution_count": 5,
   "metadata": {},
   "outputs": [],
   "source": [
    "#p-value = 0.32 , p-value is greater than 0.05, therefore we cannot reject the null hypothesis.\n",
    "# We can infer that it follows a normal distribution."
   ]
  },
  {
   "cell_type": "code",
   "execution_count": 6,
   "metadata": {},
   "outputs": [
    {
     "name": "stdout",
     "output_type": "stream",
     "text": [
      "(0.9727300405502319, 0.5224985480308533)\n"
     ]
    }
   ],
   "source": [
    "#Normality Test for Y2\n",
    "print(stats.shapiro(cutlets['Unit B'].dropna()))"
   ]
  },
  {
   "cell_type": "code",
   "execution_count": 7,
   "metadata": {},
   "outputs": [],
   "source": [
    "#p-value = 0.5225 , p-value is greater than 0.05, therefore we cannot reject the null hypothesis.\n",
    "# We can infer that it follows a normal distribution."
   ]
  },
  {
   "cell_type": "code",
   "execution_count": 8,
   "metadata": {},
   "outputs": [],
   "source": [
    "# Assuming external conditions are not same as no information regarding with external conditions is specified in the question.\n",
    "# We can proceed with variance test to test whether both the distribution of the samples of units A and B have equal variances or not."
   ]
  },
  {
   "cell_type": "code",
   "execution_count": 10,
   "metadata": {},
   "outputs": [
    {
     "name": "stdout",
     "output_type": "stream",
     "text": [
      "LeveneResult(statistic=0.665089763863238, pvalue=0.4176162212502553)\n"
     ]
    }
   ],
   "source": [
    "# Variance test for 2 sample T test.\n",
    "print(scipy.stats.levene(cutlets['Unit A'].dropna(),cutlets['Unit B'].dropna()))"
   ]
  },
  {
   "cell_type": "code",
   "execution_count": 11,
   "metadata": {},
   "outputs": [],
   "source": [
    "#p-value = 0.4176 , p-value is greater than 0.05, therefore we cannot reject the null hypothesis.\n",
    "# We can infer that the sample distributions of both the units have equal variances."
   ]
  },
  {
   "cell_type": "code",
   "execution_count": 12,
   "metadata": {},
   "outputs": [],
   "source": [
    "# Now we can proceed with the 2 sample T test for equal variances to test our initial hypothesis.\n",
    "# H0: There is no difference between the average length of the diameters of the cutlets of unit A and unit B. \n",
    "# H1: There is a difference between the average length of the diameters of the cutlets of unit A and unit B."
   ]
  },
  {
   "cell_type": "code",
   "execution_count": 13,
   "metadata": {},
   "outputs": [
    {
     "name": "stdout",
     "output_type": "stream",
     "text": [
      "Ttest_indResult(statistic=0.7228688704678061, pvalue=0.4722394724599501)\n"
     ]
    }
   ],
   "source": [
    "print(scipy.stats.ttest_ind(cutlets['Unit A'].dropna(),cutlets['Unit B'].dropna()))"
   ]
  },
  {
   "cell_type": "code",
   "execution_count": 14,
   "metadata": {},
   "outputs": [],
   "source": [
    "#We are using a two sided test because our alternate hypothesis states mean of population 1 not equal to mean of population 2.\n",
    "#p-value = 0.4723, p-value is greater than 0.05, therefore we cannot reject the null hypothesis."
   ]
  },
  {
   "cell_type": "code",
   "execution_count": 15,
   "metadata": {},
   "outputs": [],
   "source": [
    "#We can infer that we do not have enough evidence from the sample data to reject the null hypothesis. i.e our test\n",
    "# suggests that the samples do not have enough evidence to have come from populations with significantly different means.\n",
    "# We can infer that with a 95% level of confidence the population means of the diameters of donuts produced from unit A and Unit B are not significantly different."
   ]
  },
  {
   "cell_type": "code",
   "execution_count": 16,
   "metadata": {},
   "outputs": [],
   "source": [
    "#Problem 2"
   ]
  },
  {
   "cell_type": "code",
   "execution_count": 17,
   "metadata": {},
   "outputs": [],
   "source": [
    "# We are comparing the means of 4 different populations. \n",
    "# X1,X2,X3,X4 are the names of the 4 laboratories respectively and Y1,Y2,Y3,Y4 are the TATs of the 4 labs respectively.\n",
    "# H0: The average Turn Around Time of all 4 laboratories are the same.\n",
    "# H1: The average Turn Around Time of at least one laboratory is different from the others.\n",
    "# significance level (alpha) = 0.05"
   ]
  },
  {
   "cell_type": "code",
   "execution_count": 18,
   "metadata": {},
   "outputs": [],
   "source": [
    "labTat = pd.read_csv('LabTAT.csv')"
   ]
  },
  {
   "cell_type": "code",
   "execution_count": 19,
   "metadata": {},
   "outputs": [
    {
     "data": {
      "text/html": [
       "<div>\n",
       "<style scoped>\n",
       "    .dataframe tbody tr th:only-of-type {\n",
       "        vertical-align: middle;\n",
       "    }\n",
       "\n",
       "    .dataframe tbody tr th {\n",
       "        vertical-align: top;\n",
       "    }\n",
       "\n",
       "    .dataframe thead th {\n",
       "        text-align: right;\n",
       "    }\n",
       "</style>\n",
       "<table border=\"1\" class=\"dataframe\">\n",
       "  <thead>\n",
       "    <tr style=\"text-align: right;\">\n",
       "      <th></th>\n",
       "      <th>Laboratory 1</th>\n",
       "      <th>Laboratory 2</th>\n",
       "      <th>Laboratory 3</th>\n",
       "      <th>Laboratory 4</th>\n",
       "    </tr>\n",
       "  </thead>\n",
       "  <tbody>\n",
       "    <tr>\n",
       "      <th>0</th>\n",
       "      <td>185.35</td>\n",
       "      <td>165.53</td>\n",
       "      <td>176.70</td>\n",
       "      <td>166.13</td>\n",
       "    </tr>\n",
       "    <tr>\n",
       "      <th>1</th>\n",
       "      <td>170.49</td>\n",
       "      <td>185.91</td>\n",
       "      <td>198.45</td>\n",
       "      <td>160.79</td>\n",
       "    </tr>\n",
       "    <tr>\n",
       "      <th>2</th>\n",
       "      <td>192.77</td>\n",
       "      <td>194.92</td>\n",
       "      <td>201.23</td>\n",
       "      <td>185.18</td>\n",
       "    </tr>\n",
       "    <tr>\n",
       "      <th>3</th>\n",
       "      <td>177.33</td>\n",
       "      <td>183.00</td>\n",
       "      <td>199.61</td>\n",
       "      <td>176.42</td>\n",
       "    </tr>\n",
       "    <tr>\n",
       "      <th>4</th>\n",
       "      <td>193.41</td>\n",
       "      <td>169.57</td>\n",
       "      <td>204.63</td>\n",
       "      <td>152.60</td>\n",
       "    </tr>\n",
       "  </tbody>\n",
       "</table>\n",
       "</div>"
      ],
      "text/plain": [
       "   Laboratory 1  Laboratory 2  Laboratory 3  Laboratory 4\n",
       "0        185.35        165.53        176.70        166.13\n",
       "1        170.49        185.91        198.45        160.79\n",
       "2        192.77        194.92        201.23        185.18\n",
       "3        177.33        183.00        199.61        176.42\n",
       "4        193.41        169.57        204.63        152.60"
      ]
     },
     "execution_count": 19,
     "metadata": {},
     "output_type": "execute_result"
    }
   ],
   "source": [
    "labTat.head()"
   ]
  },
  {
   "cell_type": "code",
   "execution_count": 20,
   "metadata": {},
   "outputs": [
    {
     "name": "stdout",
     "output_type": "stream",
     "text": [
      "(0.9901824593544006, 0.5506953597068787)\n"
     ]
    }
   ],
   "source": [
    "# Normality test for Y1\n",
    "print(stats.shapiro(labTat['Laboratory 1'].dropna()))"
   ]
  },
  {
   "cell_type": "code",
   "execution_count": 21,
   "metadata": {},
   "outputs": [],
   "source": [
    "#p-value = 0.5508 , p-value is greater than 0.05, therefore we cannot reject the null hypothesis.\n",
    "# We can infer that it follows a normal distribution."
   ]
  },
  {
   "cell_type": "code",
   "execution_count": 22,
   "metadata": {},
   "outputs": [
    {
     "name": "stdout",
     "output_type": "stream",
     "text": [
      "(0.9936322569847107, 0.8637524843215942)\n"
     ]
    }
   ],
   "source": [
    "# Normality test for Y2\n",
    "print(stats.shapiro(labTat['Laboratory 2'].dropna()))"
   ]
  },
  {
   "cell_type": "code",
   "execution_count": 23,
   "metadata": {},
   "outputs": [],
   "source": [
    "#p-value =  0.8637 , p-value is greater than 0.05, therefore we cannot reject the null hypothesis.\n",
    "# We can infer that it follows a normal distribution."
   ]
  },
  {
   "cell_type": "code",
   "execution_count": 24,
   "metadata": {},
   "outputs": [
    {
     "name": "stdout",
     "output_type": "stream",
     "text": [
      "(0.9886345267295837, 0.4205053448677063)\n"
     ]
    }
   ],
   "source": [
    "# Normality test for Y3\n",
    "print(stats.shapiro(labTat['Laboratory 3'].dropna()))"
   ]
  },
  {
   "cell_type": "code",
   "execution_count": 25,
   "metadata": {},
   "outputs": [],
   "source": [
    "#p-value = 0.4205 , p-value is greater than 0.05, therefore we cannot reject the null hypothesis.\n",
    "# We can infer that it follows a normal distribution."
   ]
  },
  {
   "cell_type": "code",
   "execution_count": 26,
   "metadata": {},
   "outputs": [
    {
     "name": "stdout",
     "output_type": "stream",
     "text": [
      "(0.9913753271102905, 0.6618951559066772)\n"
     ]
    }
   ],
   "source": [
    "# Normality test for Y4\n",
    "print(stats.shapiro(labTat['Laboratory 4'].dropna()))"
   ]
  },
  {
   "cell_type": "code",
   "execution_count": 27,
   "metadata": {},
   "outputs": [],
   "source": [
    "#p-value = 0.6619 , p-value is greater than 0.05, therefore we cannot reject the null hypothesis.\n",
    "# We can infer that it follows a normal distribution."
   ]
  },
  {
   "cell_type": "code",
   "execution_count": 28,
   "metadata": {},
   "outputs": [],
   "source": [
    "# All the samples of the laboratories follow a normal distribution.\n",
    "# We can proceed with the variance test to check whether all 4 distributions have equal variance or not."
   ]
  },
  {
   "cell_type": "code",
   "execution_count": 29,
   "metadata": {},
   "outputs": [
    {
     "name": "stdout",
     "output_type": "stream",
     "text": [
      "LeveneResult(statistic=3.5495027780905763, pvalue=0.06078228171776711)\n",
      "LeveneResult(statistic=7.547664894290509, pvalue=0.006468575869839467)\n",
      "LeveneResult(statistic=1.5000140718506723, pvalue=0.22188001348277267)\n",
      "LeveneResult(statistic=0.9441465124387124, pvalue=0.33220021420602397)\n",
      "LeveneResult(statistic=0.2889202799636133, pvalue=0.5914154837597723)\n",
      "LeveneResult(statistic=2.037958464521512, pvalue=0.15472618294425391)\n"
     ]
    }
   ],
   "source": [
    "print(scipy.stats.levene(labTat['Laboratory 1'].dropna(),labTat['Laboratory 2'].dropna()))\n",
    "print(scipy.stats.levene(labTat['Laboratory 1'].dropna(),labTat['Laboratory 3'].dropna()))\n",
    "print(scipy.stats.levene(labTat['Laboratory 1'].dropna(),labTat['Laboratory 4'].dropna()))\n",
    "print(scipy.stats.levene(labTat['Laboratory 2'].dropna(),labTat['Laboratory 3'].dropna()))\n",
    "print(scipy.stats.levene(labTat['Laboratory 2'].dropna(),labTat['Laboratory 4'].dropna()))\n",
    "print(scipy.stats.levene(labTat['Laboratory 3'].dropna(),labTat['Laboratory 4'].dropna()))"
   ]
  },
  {
   "cell_type": "code",
   "execution_count": 30,
   "metadata": {},
   "outputs": [],
   "source": [
    "# All the variances are equal except that of lab1 and lab3 combination. Therefore we can assume that all labs have\n",
    "# equal variance and proceed further with one-way ANOVA test."
   ]
  },
  {
   "cell_type": "code",
   "execution_count": 31,
   "metadata": {},
   "outputs": [],
   "source": [
    "# H0: The average Turn Around Time of all 4 laboratories are the same.\n",
    "# H1: The average Turn Around Time of at least one laboratory is different from the others."
   ]
  },
  {
   "cell_type": "code",
   "execution_count": 32,
   "metadata": {},
   "outputs": [
    {
     "name": "stdout",
     "output_type": "stream",
     "text": [
      "             df         sum_sq       mean_sq           F        PR(>F)\n",
      "ind         3.0   79979.167089  26659.722363  118.704217  2.115671e-57\n",
      "Residual  476.0  106904.608903    224.589515         NaN           NaN\n"
     ]
    }
   ],
   "source": [
    "stacked_lab = pd.DataFrame(labTat.dropna().stack()).reset_index().drop('level_0',axis=1)\n",
    "stacked_lab.columns = ['ind','values']\n",
    "mod = smf.ols('values~ind',data=stacked_lab).fit()\n",
    "aov_table=sm.stats.anova_lm(mod, type=2)\n",
    "print(aov_table)"
   ]
  },
  {
   "cell_type": "code",
   "execution_count": 33,
   "metadata": {},
   "outputs": [],
   "source": [
    "# We can observe the p-value to be very small much lesser than 0.05. Therefore, we have enough evidence to \n",
    "# reject the null hypothesis. We can infer from our hypothesis test that with a 95% level of confidence there is some difference in the average\n",
    "# Turn Around Time between the 4 laboratories."
   ]
  },
  {
   "cell_type": "code",
   "execution_count": 34,
   "metadata": {},
   "outputs": [],
   "source": [
    "#Problem 3"
   ]
  },
  {
   "cell_type": "code",
   "execution_count": 35,
   "metadata": {},
   "outputs": [],
   "source": [
    "# We are comparing the proportions of 4 different populations.\n",
    "# X1,X2,X3,X4 are the 4 regions East,West,North and South respectively. Y1,Y2 are the males and females count per region.\n",
    "#H0: The male-female buyer ratios are the same across all regions.\n",
    "#H1: The male-female buyer ratios of at least one region is defferent from the other regions.\n",
    "# significance level (alpha) = 0.05"
   ]
  },
  {
   "cell_type": "code",
   "execution_count": 36,
   "metadata": {},
   "outputs": [],
   "source": [
    "buyer_ratio = pd.read_csv('BuyerRatio.csv',index_col=0)"
   ]
  },
  {
   "cell_type": "code",
   "execution_count": 37,
   "metadata": {},
   "outputs": [
    {
     "data": {
      "text/html": [
       "<div>\n",
       "<style scoped>\n",
       "    .dataframe tbody tr th:only-of-type {\n",
       "        vertical-align: middle;\n",
       "    }\n",
       "\n",
       "    .dataframe tbody tr th {\n",
       "        vertical-align: top;\n",
       "    }\n",
       "\n",
       "    .dataframe thead th {\n",
       "        text-align: right;\n",
       "    }\n",
       "</style>\n",
       "<table border=\"1\" class=\"dataframe\">\n",
       "  <thead>\n",
       "    <tr style=\"text-align: right;\">\n",
       "      <th></th>\n",
       "      <th>East</th>\n",
       "      <th>West</th>\n",
       "      <th>North</th>\n",
       "      <th>South</th>\n",
       "    </tr>\n",
       "    <tr>\n",
       "      <th>Observed Values</th>\n",
       "      <th></th>\n",
       "      <th></th>\n",
       "      <th></th>\n",
       "      <th></th>\n",
       "    </tr>\n",
       "  </thead>\n",
       "  <tbody>\n",
       "    <tr>\n",
       "      <th>Males</th>\n",
       "      <td>50</td>\n",
       "      <td>142</td>\n",
       "      <td>131</td>\n",
       "      <td>70</td>\n",
       "    </tr>\n",
       "    <tr>\n",
       "      <th>Females</th>\n",
       "      <td>435</td>\n",
       "      <td>1523</td>\n",
       "      <td>1356</td>\n",
       "      <td>750</td>\n",
       "    </tr>\n",
       "  </tbody>\n",
       "</table>\n",
       "</div>"
      ],
      "text/plain": [
       "                 East  West  North  South\n",
       "Observed Values                          \n",
       "Males              50   142    131     70\n",
       "Females           435  1523   1356    750"
      ]
     },
     "execution_count": 37,
     "metadata": {},
     "output_type": "execute_result"
    }
   ],
   "source": [
    "buyer_ratio.head()"
   ]
  },
  {
   "cell_type": "code",
   "execution_count": 38,
   "metadata": {},
   "outputs": [
    {
     "name": "stdout",
     "output_type": "stream",
     "text": [
      "[['', 'Test Statistic', 'p-value'], ['Sample Data', 1.595945538661058, 0.6603094907091882]]\n"
     ]
    }
   ],
   "source": [
    "# As we have more than 2 populations to compare and both X and Y are discrete we can proceed with chi-square test.\n",
    "Chisquares_results=scipy.stats.chi2_contingency(buyer_ratio)\n",
    "Chi_square=[['','Test Statistic','p-value'],['Sample Data',Chisquares_results[0],Chisquares_results[1]]]\n",
    "print(Chi_square)"
   ]
  },
  {
   "cell_type": "code",
   "execution_count": 40,
   "metadata": {},
   "outputs": [],
   "source": [
    "#p-value=0.6603, p-value is greater than 0.05, therefore we do not have enough evidence to reject the null hypothesis.\n",
    "# We can infer that from our analysis of the sample proportions, with a 95 % level of confidence that the population \n",
    "# male-female buyer ratios are the same across all the regions."
   ]
  },
  {
   "cell_type": "code",
   "execution_count": 41,
   "metadata": {},
   "outputs": [],
   "source": [
    "#Problem 4"
   ]
  },
  {
   "cell_type": "code",
   "execution_count": 42,
   "metadata": {},
   "outputs": [],
   "source": [
    "# We are comparing the proportions of 4 different populations.\n",
    "# X1,X2,X3,X4 are the 4 TeleCall centers and Y1 and Y2 are denote whether an order form is defective or not.\n",
    "#H0: The defective % of order forms across all 4 centers is the same.\n",
    "#H1: The defective % of order forms of at least one center is different from the other centers.\n",
    "\n",
    "# significance level (alpha) = 0.05"
   ]
  },
  {
   "cell_type": "code",
   "execution_count": 43,
   "metadata": {},
   "outputs": [],
   "source": [
    "CustomerOrderForm = pd.read_csv('CustomerOrderform.csv')\n",
    "stacked_custorderform = pd.DataFrame(CustomerOrderForm.dropna().stack()).reset_index().drop('level_0',axis=1)\n",
    "stacked_custorderform.columns = ['ind','values']"
   ]
  },
  {
   "cell_type": "code",
   "execution_count": 44,
   "metadata": {},
   "outputs": [],
   "source": [
    "CustomerOrderForm = pd.crosstab(index=stacked_custorderform['values'],columns=stacked_custorderform['ind'])"
   ]
  },
  {
   "cell_type": "code",
   "execution_count": 45,
   "metadata": {},
   "outputs": [
    {
     "data": {
      "text/html": [
       "<div>\n",
       "<style scoped>\n",
       "    .dataframe tbody tr th:only-of-type {\n",
       "        vertical-align: middle;\n",
       "    }\n",
       "\n",
       "    .dataframe tbody tr th {\n",
       "        vertical-align: top;\n",
       "    }\n",
       "\n",
       "    .dataframe thead th {\n",
       "        text-align: right;\n",
       "    }\n",
       "</style>\n",
       "<table border=\"1\" class=\"dataframe\">\n",
       "  <thead>\n",
       "    <tr style=\"text-align: right;\">\n",
       "      <th>ind</th>\n",
       "      <th>India</th>\n",
       "      <th>Indonesia</th>\n",
       "      <th>Malta</th>\n",
       "      <th>Phillippines</th>\n",
       "    </tr>\n",
       "    <tr>\n",
       "      <th>values</th>\n",
       "      <th></th>\n",
       "      <th></th>\n",
       "      <th></th>\n",
       "      <th></th>\n",
       "    </tr>\n",
       "  </thead>\n",
       "  <tbody>\n",
       "    <tr>\n",
       "      <th>Defective</th>\n",
       "      <td>20</td>\n",
       "      <td>33</td>\n",
       "      <td>31</td>\n",
       "      <td>29</td>\n",
       "    </tr>\n",
       "    <tr>\n",
       "      <th>Error Free</th>\n",
       "      <td>280</td>\n",
       "      <td>267</td>\n",
       "      <td>269</td>\n",
       "      <td>271</td>\n",
       "    </tr>\n",
       "  </tbody>\n",
       "</table>\n",
       "</div>"
      ],
      "text/plain": [
       "ind         India  Indonesia  Malta  Phillippines\n",
       "values                                           \n",
       "Defective      20         33     31            29\n",
       "Error Free    280        267    269           271"
      ]
     },
     "execution_count": 45,
     "metadata": {},
     "output_type": "execute_result"
    }
   ],
   "source": [
    "CustomerOrderForm"
   ]
  },
  {
   "cell_type": "code",
   "execution_count": 46,
   "metadata": {},
   "outputs": [
    {
     "name": "stdout",
     "output_type": "stream",
     "text": [
      "[['', 'Test Statistic', 'p-value'], ['Sample Data', 3.858960685820355, 0.2771020991233135]]\n"
     ]
    }
   ],
   "source": [
    "# As we have more than 2 populations to compare and both X and Y are discrete we can proceed with chi-square test.\n",
    "Chisquares_results=scipy.stats.chi2_contingency(CustomerOrderForm)\n",
    "Chi_square=[['','Test Statistic','p-value'],['Sample Data',Chisquares_results[0],Chisquares_results[1]]]\n",
    "print(Chi_square)"
   ]
  },
  {
   "cell_type": "code",
   "execution_count": 47,
   "metadata": {},
   "outputs": [],
   "source": [
    "#p-value=0.2771, p-value is greater than 0.05, therefore we do not have enough evidence to reject the null hypothesis.\n",
    "# We can infer that from our analysis of the sample proportions, with a 95 % level of confidence that\n",
    "# the population error defect rate across all 4 centers are equal."
   ]
  },
  {
   "cell_type": "code",
   "execution_count": 48,
   "metadata": {},
   "outputs": [],
   "source": [
    "#Problem 5"
   ]
  },
  {
   "cell_type": "code",
   "execution_count": 49,
   "metadata": {},
   "outputs": [],
   "source": [
    "# We are comparing more than 2 populations here. The % of males versus females on weekdays and weekends.\n",
    "#H0: The % of males versus females entering the store is the same for weekdays and weekends.\n",
    "#H1: The % of males versus females entering the store is different for weekdays and weekends.\n",
    "# significance level (alpha) = 0.05"
   ]
  },
  {
   "cell_type": "code",
   "execution_count": 50,
   "metadata": {},
   "outputs": [],
   "source": [
    "from statsmodels.stats.proportion import proportions_ztest"
   ]
  },
  {
   "cell_type": "code",
   "execution_count": 51,
   "metadata": {},
   "outputs": [],
   "source": [
    "Fantaloons = pd.read_csv('Fantaloons.csv')\n",
    "table1 = Fantaloons['Weekdays'].value_counts()\n",
    "table2 = Fantaloons['Weekend'].value_counts()"
   ]
  },
  {
   "cell_type": "code",
   "execution_count": 52,
   "metadata": {},
   "outputs": [],
   "source": [
    "count = np.array([167,113])\n",
    "nobs = np.array([400,400])"
   ]
  },
  {
   "cell_type": "code",
   "execution_count": 53,
   "metadata": {},
   "outputs": [
    {
     "name": "stdout",
     "output_type": "stream",
     "text": [
      "6.26114287794602e-05\n"
     ]
    }
   ],
   "source": [
    "stats,pval = proportions_ztest(count, nobs,alternative='two-sided') \n",
    "print(pval) # Pvalue- 0.000"
   ]
  },
  {
   "cell_type": "code",
   "execution_count": null,
   "metadata": {},
   "outputs": [],
   "source": [
    "# The p-value is much lesser than 0.05. Therefore we have enough evidence to reject the null hypothesis and\n",
    "# go with alternate hypothesis.\n",
    "# We can infer that with a 95% confidence level, the population  % of males versus females entering the store is different for weekdays and weekends."
   ]
  },
  {
   "cell_type": "code",
   "execution_count": null,
   "metadata": {},
   "outputs": [],
   "source": []
  }
 ],
 "metadata": {
  "kernelspec": {
   "display_name": "Python 3",
   "language": "python",
   "name": "python3"
  },
  "language_info": {
   "codemirror_mode": {
    "name": "ipython",
    "version": 3
   },
   "file_extension": ".py",
   "mimetype": "text/x-python",
   "name": "python",
   "nbconvert_exporter": "python",
   "pygments_lexer": "ipython3",
   "version": "3.6.5"
  }
 },
 "nbformat": 4,
 "nbformat_minor": 2
}
